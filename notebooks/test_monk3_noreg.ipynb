{
 "cells": [
  {
   "cell_type": "code",
   "execution_count": 1,
   "metadata": {},
   "outputs": [],
   "source": [
    "import sys\n",
    "sys.path.append('../')\n",
    "sys.path.append('../src/')\n",
    "\n",
    "import seaborn as sns\n",
    "import matplotlib.pyplot as plt\n",
    "import matplotlib as mpl\n",
    "import pandas as pd\n",
    "import numpy as np\n",
    "\n",
    "from src.utils import load_monk2, load_monk3, load_monk1\n",
    "from src.network import Network\n",
    "from src.activations import ReLU, Tanh, Sigmoid\n",
    "from src.losses import MeanSquaredError\n",
    "from src.metrics import BinaryAccuracy, MulticlassAccuracy, MeanEuclideanError\n",
    "from src.regularizers import L2, L1\n",
    "from sklearn.metrics import accuracy_score\n",
    "from sklearn.preprocessing import MinMaxScaler\n",
    "from sklearn.model_selection import train_test_split\n",
    "from src.callbacks import EarlyStopping, Callback"
   ]
  },
  {
   "cell_type": "code",
   "execution_count": 2,
   "metadata": {},
   "outputs": [],
   "source": [
    "x_train, x_val, x_test, y_train, y_val, y_test = load_monk3()"
   ]
  },
  {
   "cell_type": "code",
   "execution_count": 3,
   "metadata": {},
   "outputs": [],
   "source": [
    "#defining the network\n",
    "model = Network(17)\n",
    "model.add_layer(4, ReLU())\n",
    "model.add_layer(1, Sigmoid(), initializer='xavier')"
   ]
  },
  {
   "cell_type": "code",
   "execution_count": 4,
   "metadata": {},
   "outputs": [
    {
     "name": "stderr",
     "output_type": "stream",
     "text": [
      "Training: 100%|██████████| 5000/5000[, loss=0.0395, val_loss=0.0582, val_acc=0.92]\n",
      "Training:  72%|███████▏  | 3584/5000[, loss=0.0382, val_loss=0.0647, val_acc=0.96]\n"
     ]
    },
    {
     "name": "stdout",
     "output_type": "stream",
     "text": [
      "Early stopping\n"
     ]
    },
    {
     "name": "stderr",
     "output_type": "stream",
     "text": [
      "Training: 100%|██████████| 5000/5000[, loss=0.0399, val_loss=0.0584, val_acc=0.92]\n",
      "Training:  93%|█████████▎| 4662/5000[, loss=0.0402, val_loss=0.0616, val_acc=0.92]\n"
     ]
    },
    {
     "name": "stdout",
     "output_type": "stream",
     "text": [
      "Early stopping\n"
     ]
    },
    {
     "name": "stderr",
     "output_type": "stream",
     "text": [
      "Training:  60%|█████▉    | 2999/5000[, loss=0.0392, val_loss=0.0663, val_acc=0.92]\n"
     ]
    },
    {
     "name": "stdout",
     "output_type": "stream",
     "text": [
      "Early stopping\n"
     ]
    },
    {
     "name": "stderr",
     "output_type": "stream",
     "text": [
      "Training:  86%|████████▌ | 4301/5000[, loss=0.0394, val_loss=0.0622, val_acc=0.96]\n"
     ]
    },
    {
     "name": "stdout",
     "output_type": "stream",
     "text": [
      "Early stopping\n"
     ]
    },
    {
     "name": "stderr",
     "output_type": "stream",
     "text": [
      "Training:  96%|█████████▌| 4796/5000[, loss=0.0404, val_loss=0.0615, val_acc=0.92]\n"
     ]
    },
    {
     "name": "stdout",
     "output_type": "stream",
     "text": [
      "Early stopping\n"
     ]
    },
    {
     "name": "stderr",
     "output_type": "stream",
     "text": [
      "Training:  68%|██████▊   | 3382/5000[, loss=0.0399, val_loss=0.0659, val_acc=0.96]\n"
     ]
    },
    {
     "name": "stdout",
     "output_type": "stream",
     "text": [
      "Early stopping\n"
     ]
    },
    {
     "name": "stderr",
     "output_type": "stream",
     "text": [
      "Training:  80%|███████▉  | 3983/5000[, loss=0.0412, val_loss=0.0616, val_acc=0.96]"
     ]
    },
    {
     "name": "stdout",
     "output_type": "stream",
     "text": [
      "Early stopping\n",
      "Average Train MSE:  0.06225392821319595\n",
      "Average Train Accuracy:  0.9377777777777777\n",
      "Average Test MSE:  0.04624365308610764\n",
      "Average Test Accuracy:  0.9495884773662551\n"
     ]
    },
    {
     "name": "stderr",
     "output_type": "stream",
     "text": [
      "Training:  80%|███████▉  | 3984/5000[, loss=0.0412, val_loss=0.0616, val_acc=0.96]"
     ]
    }
   ],
   "source": [
    "train_mse = []\n",
    "train_acc = []\n",
    "test_mse = []\n",
    "test_acc = []\n",
    "for i in range(1,10):\n",
    "    #defining the network\n",
    "    model = Network(17)\n",
    "    model.add_layer(4, ReLU())\n",
    "    model.add_layer(1, Sigmoid(), initializer='xavier')\n",
    "    stats = model.train((x_train, y_train),(x_val, y_val),\n",
    "        metric=BinaryAccuracy(), \n",
    "        loss=MeanSquaredError(), \n",
    "        epochs=5000, \n",
    "        eta=0.001,  \n",
    "        callbacks=[EarlyStopping(patience=100)], \n",
    "        verbose=True)\n",
    "    train_mse.append(stats['val_loss'][-1])\n",
    "    train_acc.append(stats['val_acc'][-1])\n",
    "\n",
    "    y_pred = model.multiple_outputs(x_test)\n",
    "    binary_accuracy = BinaryAccuracy()\n",
    "    acc = binary_accuracy(y_pred, y_test)\n",
    "    test_acc.append(acc)\n",
    "\n",
    "    mse = MeanSquaredError()\n",
    "    mse = mse.loss(y_pred, y_test)\n",
    "    test_mse.append(mse)\n",
    "\n",
    "# average over 10 runs\n",
    "print('Average Train MSE: ', np.mean(train_mse))\n",
    "print('Average Train Accuracy: ', np.mean(train_acc))\n",
    "print('Average Test MSE: ', np.mean(test_mse))\n",
    "print('Average Test Accuracy: ', np.mean(test_acc))"
   ]
  },
  {
   "cell_type": "code",
   "execution_count": null,
   "metadata": {},
   "outputs": [],
   "source": [
    "#compute accuracy on test set\n",
    "# compute accuracy\n",
    "y_pred = model.multiple_outputs(x_test)\n",
    "binary_accuracy = BinaryAccuracy()\n",
    "acc = binary_accuracy(y_pred, y_test)\n",
    "print(acc)"
   ]
  },
  {
   "cell_type": "code",
   "execution_count": null,
   "metadata": {},
   "outputs": [],
   "source": [
    "stats = model.train((x_train, y_train),(x_val, y_val),\n",
    "        metric=BinaryAccuracy(), \n",
    "        loss=MeanSquaredError(), \n",
    "        epochs=5000, \n",
    "        eta=0.001,\n",
    "        callbacks=[EarlyStopping(patience=100)], \n",
    "        verbose=True)"
   ]
  },
  {
   "cell_type": "code",
   "execution_count": null,
   "metadata": {},
   "outputs": [],
   "source": [
    "fig, axs = plt.subplots(1, 2, figsize=(15, 5))\n",
    "#add title to figure\n",
    "fig.suptitle('Monk 3', fontsize=16)\n",
    "\n",
    "sns.lineplot(stats['train_loss'], ax=axs[0], label='Training')\n",
    "sns.lineplot(stats['val_loss'], ax=axs[0], label='Validation', linestyle='--')\n",
    "sns.lineplot(stats['train_acc'], ax=axs[1], label='Training')\n",
    "sns.lineplot(stats['val_acc'], ax=axs[1], label='Validation', linestyle='--')\n",
    "\n",
    "#add title and legend\n",
    "axs[0].set_title('Loss', fontsize=14)\n",
    "axs[1].set_title('Accuracy', fontsize=14)\n",
    "axs[0].legend(fontsize=12)\n",
    "axs[1].legend(fontsize=12)\n",
    "#increase font size\n",
    "axs[0].tick_params(labelsize=12)\n",
    "axs[1].tick_params(labelsize=12)"
   ]
  },
  {
   "cell_type": "code",
   "execution_count": null,
   "metadata": {},
   "outputs": [],
   "source": []
  }
 ],
 "metadata": {
  "kernelspec": {
   "display_name": "Python 3",
   "language": "python",
   "name": "python3"
  },
  "language_info": {
   "codemirror_mode": {
    "name": "ipython",
    "version": 3
   },
   "file_extension": ".py",
   "mimetype": "text/x-python",
   "name": "python",
   "nbconvert_exporter": "python",
   "pygments_lexer": "ipython3",
   "version": "3.10.8"
  },
  "orig_nbformat": 4,
  "vscode": {
   "interpreter": {
    "hash": "b0fa6594d8f4cbf19f97940f81e996739fb7646882a419484c72d19e05852a7e"
   }
  }
 },
 "nbformat": 4,
 "nbformat_minor": 2
}
